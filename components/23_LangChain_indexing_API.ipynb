{
 "cells": [
  {
   "cell_type": "markdown",
   "metadata": {},
   "source": [
    "# How to use the LangChain indexing API"
   ]
  },
  {
   "cell_type": "markdown",
   "metadata": {},
   "source": [
    "To use the LangChain indexing API with MySQL, you will need to set up a MySQL database to track the documents and their changes (using the SQLRecordManager)"
   ]
  },
  {
   "cell_type": "markdown",
   "metadata": {},
   "source": [
    "# Setting Up MySQL with LangChain\n",
    "Here’s how you can set up the LangChain indexing API using MySQL as your database backend:\n",
    "\n",
    "1. Install Required Libraries Ensure you have the necessary libraries installed. You’ll need mysql-connector for MySQL support."
   ]
  },
  {
   "cell_type": "code",
   "execution_count": 1,
   "metadata": {},
   "outputs": [
    {
     "name": "stdout",
     "output_type": "stream",
     "text": [
      "Requirement already satisfied: langchain in c:\\users\\admin\\desktop\\10-20-2024\\venv\\lib\\site-packages (0.3.9)\n",
      "Collecting mysql-connector-python\n",
      "  Downloading mysql_connector_python-9.1.0-cp310-cp310-win_amd64.whl.metadata (6.2 kB)\n",
      "Requirement already satisfied: PyYAML>=5.3 in c:\\users\\admin\\desktop\\10-20-2024\\venv\\lib\\site-packages (from langchain) (6.0.2)\n",
      "Requirement already satisfied: SQLAlchemy<3,>=1.4 in c:\\users\\admin\\desktop\\10-20-2024\\venv\\lib\\site-packages (from langchain) (2.0.35)\n",
      "Requirement already satisfied: aiohttp<4.0.0,>=3.8.3 in c:\\users\\admin\\desktop\\10-20-2024\\venv\\lib\\site-packages (from langchain) (3.10.10)\n",
      "Requirement already satisfied: async-timeout<5.0.0,>=4.0.0 in c:\\users\\admin\\desktop\\10-20-2024\\venv\\lib\\site-packages (from langchain) (4.0.3)\n",
      "Requirement already satisfied: langchain-core<0.4.0,>=0.3.21 in c:\\users\\admin\\desktop\\10-20-2024\\venv\\lib\\site-packages (from langchain) (0.3.21)\n",
      "Requirement already satisfied: langchain-text-splitters<0.4.0,>=0.3.0 in c:\\users\\admin\\desktop\\10-20-2024\\venv\\lib\\site-packages (from langchain) (0.3.0)\n",
      "Requirement already satisfied: langsmith<0.2.0,>=0.1.17 in c:\\users\\admin\\desktop\\10-20-2024\\venv\\lib\\site-packages (from langchain) (0.1.136)\n",
      "Requirement already satisfied: numpy<2,>=1.22.4 in c:\\users\\admin\\desktop\\10-20-2024\\venv\\lib\\site-packages (from langchain) (1.26.4)\n",
      "Requirement already satisfied: pydantic<3.0.0,>=2.7.4 in c:\\users\\admin\\desktop\\10-20-2024\\venv\\lib\\site-packages (from langchain) (2.10.1)\n",
      "Requirement already satisfied: requests<3,>=2 in c:\\users\\admin\\desktop\\10-20-2024\\venv\\lib\\site-packages (from langchain) (2.32.3)\n",
      "Requirement already satisfied: tenacity!=8.4.0,<10,>=8.1.0 in c:\\users\\admin\\desktop\\10-20-2024\\venv\\lib\\site-packages (from langchain) (8.5.0)\n",
      "Requirement already satisfied: aiohappyeyeballs>=2.3.0 in c:\\users\\admin\\desktop\\10-20-2024\\venv\\lib\\site-packages (from aiohttp<4.0.0,>=3.8.3->langchain) (2.4.3)\n",
      "Requirement already satisfied: aiosignal>=1.1.2 in c:\\users\\admin\\desktop\\10-20-2024\\venv\\lib\\site-packages (from aiohttp<4.0.0,>=3.8.3->langchain) (1.3.1)\n",
      "Requirement already satisfied: attrs>=17.3.0 in c:\\users\\admin\\desktop\\10-20-2024\\venv\\lib\\site-packages (from aiohttp<4.0.0,>=3.8.3->langchain) (24.2.0)\n",
      "Requirement already satisfied: frozenlist>=1.1.1 in c:\\users\\admin\\desktop\\10-20-2024\\venv\\lib\\site-packages (from aiohttp<4.0.0,>=3.8.3->langchain) (1.4.1)\n",
      "Requirement already satisfied: multidict<7.0,>=4.5 in c:\\users\\admin\\desktop\\10-20-2024\\venv\\lib\\site-packages (from aiohttp<4.0.0,>=3.8.3->langchain) (6.1.0)\n",
      "Requirement already satisfied: yarl<2.0,>=1.12.0 in c:\\users\\admin\\desktop\\10-20-2024\\venv\\lib\\site-packages (from aiohttp<4.0.0,>=3.8.3->langchain) (1.15.5)\n",
      "Requirement already satisfied: jsonpatch<2.0,>=1.33 in c:\\users\\admin\\desktop\\10-20-2024\\venv\\lib\\site-packages (from langchain-core<0.4.0,>=0.3.21->langchain) (1.33)\n",
      "Requirement already satisfied: packaging<25,>=23.2 in c:\\users\\admin\\desktop\\10-20-2024\\venv\\lib\\site-packages (from langchain-core<0.4.0,>=0.3.21->langchain) (24.1)\n",
      "Requirement already satisfied: typing-extensions>=4.7 in c:\\users\\admin\\desktop\\10-20-2024\\venv\\lib\\site-packages (from langchain-core<0.4.0,>=0.3.21->langchain) (4.12.2)\n",
      "Requirement already satisfied: httpx<1,>=0.23.0 in c:\\users\\admin\\desktop\\10-20-2024\\venv\\lib\\site-packages (from langsmith<0.2.0,>=0.1.17->langchain) (0.27.2)\n",
      "Requirement already satisfied: orjson<4.0.0,>=3.9.14 in c:\\users\\admin\\desktop\\10-20-2024\\venv\\lib\\site-packages (from langsmith<0.2.0,>=0.1.17->langchain) (3.10.9)\n",
      "Requirement already satisfied: requests-toolbelt<2.0.0,>=1.0.0 in c:\\users\\admin\\desktop\\10-20-2024\\venv\\lib\\site-packages (from langsmith<0.2.0,>=0.1.17->langchain) (1.0.0)\n",
      "Requirement already satisfied: annotated-types>=0.6.0 in c:\\users\\admin\\desktop\\10-20-2024\\venv\\lib\\site-packages (from pydantic<3.0.0,>=2.7.4->langchain) (0.7.0)\n",
      "Requirement already satisfied: pydantic-core==2.27.1 in c:\\users\\admin\\desktop\\10-20-2024\\venv\\lib\\site-packages (from pydantic<3.0.0,>=2.7.4->langchain) (2.27.1)\n",
      "Requirement already satisfied: charset-normalizer<4,>=2 in c:\\users\\admin\\desktop\\10-20-2024\\venv\\lib\\site-packages (from requests<3,>=2->langchain) (3.4.0)\n",
      "Requirement already satisfied: idna<4,>=2.5 in c:\\users\\admin\\desktop\\10-20-2024\\venv\\lib\\site-packages (from requests<3,>=2->langchain) (3.10)\n",
      "Requirement already satisfied: urllib3<3,>=1.21.1 in c:\\users\\admin\\desktop\\10-20-2024\\venv\\lib\\site-packages (from requests<3,>=2->langchain) (2.2.3)\n",
      "Requirement already satisfied: certifi>=2017.4.17 in c:\\users\\admin\\desktop\\10-20-2024\\venv\\lib\\site-packages (from requests<3,>=2->langchain) (2024.8.30)\n",
      "Requirement already satisfied: greenlet!=0.4.17 in c:\\users\\admin\\desktop\\10-20-2024\\venv\\lib\\site-packages (from SQLAlchemy<3,>=1.4->langchain) (3.1.1)\n",
      "Requirement already satisfied: anyio in c:\\users\\admin\\desktop\\10-20-2024\\venv\\lib\\site-packages (from httpx<1,>=0.23.0->langsmith<0.2.0,>=0.1.17->langchain) (4.6.2.post1)\n",
      "Requirement already satisfied: httpcore==1.* in c:\\users\\admin\\desktop\\10-20-2024\\venv\\lib\\site-packages (from httpx<1,>=0.23.0->langsmith<0.2.0,>=0.1.17->langchain) (1.0.6)\n",
      "Requirement already satisfied: sniffio in c:\\users\\admin\\desktop\\10-20-2024\\venv\\lib\\site-packages (from httpx<1,>=0.23.0->langsmith<0.2.0,>=0.1.17->langchain) (1.3.1)\n",
      "Requirement already satisfied: h11<0.15,>=0.13 in c:\\users\\admin\\desktop\\10-20-2024\\venv\\lib\\site-packages (from httpcore==1.*->httpx<1,>=0.23.0->langsmith<0.2.0,>=0.1.17->langchain) (0.14.0)\n",
      "Requirement already satisfied: jsonpointer>=1.9 in c:\\users\\admin\\desktop\\10-20-2024\\venv\\lib\\site-packages (from jsonpatch<2.0,>=1.33->langchain-core<0.4.0,>=0.3.21->langchain) (3.0.0)\n",
      "Requirement already satisfied: propcache>=0.2.0 in c:\\users\\admin\\desktop\\10-20-2024\\venv\\lib\\site-packages (from yarl<2.0,>=1.12.0->aiohttp<4.0.0,>=3.8.3->langchain) (0.2.0)\n",
      "Requirement already satisfied: exceptiongroup>=1.0.2 in c:\\users\\admin\\desktop\\10-20-2024\\venv\\lib\\site-packages (from anyio->httpx<1,>=0.23.0->langsmith<0.2.0,>=0.1.17->langchain) (1.2.2)\n",
      "Downloading mysql_connector_python-9.1.0-cp310-cp310-win_amd64.whl (16.1 MB)\n",
      "   ---------------------------------------- 0.0/16.1 MB ? eta -:--:--\n",
      "    --------------------------------------- 0.3/16.1 MB ? eta -:--:--\n",
      "   - -------------------------------------- 0.5/16.1 MB 1.5 MB/s eta 0:00:11\n",
      "   -- ------------------------------------- 1.0/16.1 MB 1.6 MB/s eta 0:00:10\n",
      "   --- ------------------------------------ 1.3/16.1 MB 1.8 MB/s eta 0:00:09\n",
      "   ---- ----------------------------------- 1.8/16.1 MB 1.8 MB/s eta 0:00:09\n",
      "   ---- ----------------------------------- 1.8/16.1 MB 1.8 MB/s eta 0:00:09\n",
      "   ----- ---------------------------------- 2.4/16.1 MB 1.6 MB/s eta 0:00:09\n",
      "   ------ --------------------------------- 2.6/16.1 MB 1.6 MB/s eta 0:00:09\n",
      "   ------- -------------------------------- 2.9/16.1 MB 1.5 MB/s eta 0:00:09\n",
      "   ------- -------------------------------- 3.1/16.1 MB 1.6 MB/s eta 0:00:09\n",
      "   ------- -------------------------------- 3.1/16.1 MB 1.6 MB/s eta 0:00:09\n",
      "   --------- ------------------------------ 3.7/16.1 MB 1.5 MB/s eta 0:00:09\n",
      "   --------- ------------------------------ 3.9/16.1 MB 1.5 MB/s eta 0:00:09\n",
      "   ----------- ---------------------------- 4.5/16.1 MB 1.5 MB/s eta 0:00:08\n",
      "   ----------- ---------------------------- 4.7/16.1 MB 1.5 MB/s eta 0:00:08\n",
      "   ------------- -------------------------- 5.2/16.1 MB 1.5 MB/s eta 0:00:08\n",
      "   ------------- -------------------------- 5.2/16.1 MB 1.5 MB/s eta 0:00:08\n",
      "   -------------- ------------------------- 5.8/16.1 MB 1.5 MB/s eta 0:00:07\n",
      "   --------------- ------------------------ 6.0/16.1 MB 1.5 MB/s eta 0:00:07\n",
      "   ---------------- ----------------------- 6.6/16.1 MB 1.6 MB/s eta 0:00:07\n",
      "   ---------------- ----------------------- 6.6/16.1 MB 1.6 MB/s eta 0:00:07\n",
      "   ---------------- ----------------------- 6.6/16.1 MB 1.6 MB/s eta 0:00:07\n",
      "   ---------------- ----------------------- 6.8/16.1 MB 1.5 MB/s eta 0:00:07\n",
      "   ---------------- ----------------------- 6.8/16.1 MB 1.5 MB/s eta 0:00:07\n",
      "   ---------------- ----------------------- 6.8/16.1 MB 1.5 MB/s eta 0:00:07\n",
      "   ----------------- ---------------------- 7.1/16.1 MB 1.3 MB/s eta 0:00:07\n",
      "   ----------------- ---------------------- 7.1/16.1 MB 1.3 MB/s eta 0:00:07\n",
      "   ----------------- ---------------------- 7.1/16.1 MB 1.3 MB/s eta 0:00:07\n",
      "   ----------------- ---------------------- 7.1/16.1 MB 1.3 MB/s eta 0:00:07\n",
      "   ----------------- ---------------------- 7.1/16.1 MB 1.3 MB/s eta 0:00:07\n",
      "   ----------------- ---------------------- 7.1/16.1 MB 1.3 MB/s eta 0:00:07\n",
      "   ----------------- ---------------------- 7.1/16.1 MB 1.3 MB/s eta 0:00:07\n",
      "   ----------------- ---------------------- 7.1/16.1 MB 1.3 MB/s eta 0:00:07\n",
      "   ------------------ --------------------- 7.3/16.1 MB 1.0 MB/s eta 0:00:09\n",
      "   ------------------ --------------------- 7.3/16.1 MB 1.0 MB/s eta 0:00:09\n",
      "   ------------------ --------------------- 7.3/16.1 MB 1.0 MB/s eta 0:00:09\n",
      "   ------------------ --------------------- 7.3/16.1 MB 1.0 MB/s eta 0:00:09\n",
      "   ------------------ --------------------- 7.3/16.1 MB 1.0 MB/s eta 0:00:09\n",
      "   ------------------ --------------------- 7.3/16.1 MB 1.0 MB/s eta 0:00:09\n",
      "   ------------------ --------------------- 7.3/16.1 MB 1.0 MB/s eta 0:00:09\n",
      "   ------------------ --------------------- 7.3/16.1 MB 1.0 MB/s eta 0:00:09\n",
      "   ------------------ --------------------- 7.3/16.1 MB 1.0 MB/s eta 0:00:09\n",
      "   ------------------ --------------------- 7.3/16.1 MB 1.0 MB/s eta 0:00:09\n",
      "   ------------------ --------------------- 7.6/16.1 MB 807.1 kB/s eta 0:00:11\n",
      "   ------------------- -------------------- 7.9/16.1 MB 813.6 kB/s eta 0:00:11\n",
      "   ------------------- -------------------- 7.9/16.1 MB 813.6 kB/s eta 0:00:11\n",
      "   ------------------- -------------------- 7.9/16.1 MB 813.6 kB/s eta 0:00:11\n",
      "   -------------------- ------------------- 8.1/16.1 MB 798.9 kB/s eta 0:00:10\n",
      "   -------------------- ------------------- 8.4/16.1 MB 805.1 kB/s eta 0:00:10\n",
      "   ---------------------- ----------------- 8.9/16.1 MB 835.1 kB/s eta 0:00:09\n",
      "   ---------------------- ----------------- 8.9/16.1 MB 835.1 kB/s eta 0:00:09\n",
      "   ---------------------- ----------------- 9.2/16.1 MB 826.7 kB/s eta 0:00:09\n",
      "   ----------------------- ---------------- 9.4/16.1 MB 834.1 kB/s eta 0:00:08\n",
      "   ------------------------ --------------- 9.7/16.1 MB 847.1 kB/s eta 0:00:08\n",
      "   ------------------------- -------------- 10.2/16.1 MB 868.6 kB/s eta 0:00:07\n",
      "   -------------------------- ------------- 10.5/16.1 MB 880.7 kB/s eta 0:00:07\n",
      "   -------------------------- ------------- 10.5/16.1 MB 880.7 kB/s eta 0:00:07\n",
      "   -------------------------- ------------- 10.7/16.1 MB 876.1 kB/s eta 0:00:07\n",
      "   -------------------------- ------------- 10.7/16.1 MB 876.1 kB/s eta 0:00:07\n",
      "   --------------------------- ------------ 11.0/16.1 MB 860.9 kB/s eta 0:00:06\n",
      "   ---------------------------- ----------- 11.3/16.1 MB 869.9 kB/s eta 0:00:06\n",
      "   ------------------------------ --------- 12.1/16.1 MB 909.6 kB/s eta 0:00:05\n",
      "   ------------------------------ --------- 12.3/16.1 MB 920.9 kB/s eta 0:00:05\n",
      "   -------------------------------- ------- 13.1/16.1 MB 959.2 kB/s eta 0:00:04\n",
      "   --------------------------------- ------ 13.4/16.1 MB 969.8 kB/s eta 0:00:03\n",
      "   ---------------------------------- ----- 13.9/16.1 MB 991.4 kB/s eta 0:00:03\n",
      "   ----------------------------------- ---- 14.2/16.1 MB 994.6 kB/s eta 0:00:02\n",
      "   ------------------------------------ --- 14.7/16.1 MB 1.0 MB/s eta 0:00:02\n",
      "   ------------------------------------- -- 14.9/16.1 MB 1.0 MB/s eta 0:00:02\n",
      "   -------------------------------------- - 15.5/16.1 MB 1.0 MB/s eta 0:00:01\n",
      "   ---------------------------------------  15.7/16.1 MB 1.0 MB/s eta 0:00:01\n",
      "   ---------------------------------------- 16.1/16.1 MB 1.0 MB/s eta 0:00:00\n",
      "Installing collected packages: mysql-connector-python\n",
      "Successfully installed mysql-connector-python-9.1.0\n",
      "Note: you may need to restart the kernel to use updated packages.\n"
     ]
    },
    {
     "name": "stderr",
     "output_type": "stream",
     "text": [
      "\n",
      "[notice] A new release of pip is available: 24.2 -> 24.3.1\n",
      "[notice] To update, run: python.exe -m pip install --upgrade pip\n"
     ]
    }
   ],
   "source": [
    "pip install langchain mysql-connector-python"
   ]
  },
  {
   "cell_type": "markdown",
   "metadata": {},
   "source": [
    "2. Set Up the MySQL Database\n",
    "\n",
    "Create a database for storing the records (if it doesn't already exist)."
   ]
  },
  {
   "cell_type": "markdown",
   "metadata": {},
   "source": [
    "CREATE DATABASE langchain_indexing;\n"
   ]
  },
  {
   "cell_type": "code",
   "execution_count": null,
   "metadata": {},
   "outputs": [],
   "source": []
  }
 ],
 "metadata": {
  "kernelspec": {
   "display_name": "venv",
   "language": "python",
   "name": "python3"
  },
  "language_info": {
   "codemirror_mode": {
    "name": "ipython",
    "version": 3
   },
   "file_extension": ".py",
   "mimetype": "text/x-python",
   "name": "python",
   "nbconvert_exporter": "python",
   "pygments_lexer": "ipython3",
   "version": "3.10.5"
  }
 },
 "nbformat": 4,
 "nbformat_minor": 2
}
