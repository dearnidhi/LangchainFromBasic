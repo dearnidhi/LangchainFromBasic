{
 "cells": [
  {
   "cell_type": "markdown",
   "metadata": {},
   "source": [
    "# How to handle tool errors"
   ]
  },
  {
   "cell_type": "markdown",
   "metadata": {},
   "source": [
    "# Try/Except for Tool Calls\n",
    "The simplest way to handle tool invocation errors is using a try/except block to catch and report errors."
   ]
  },
  {
   "cell_type": "code",
   "execution_count": 5,
   "metadata": {},
   "outputs": [
    {
     "name": "stdout",
     "output_type": "stream",
     "text": [
      "10.5\n"
     ]
    }
   ],
   "source": [
    "import getpass\n",
    "import os\n",
    "from langchain_openai import ChatOpenAI\n",
    "from langchain_core.tools import tool\n",
    "from langchain_core.runnables import RunnableConfig\n",
    "\n",
    "# Set OpenAI API Key\n",
    "os.environ[\"OPENAI_API_KEY\"] = getpass.getpass(\"Enter OpenAI API Key: \")\n",
    "\n",
    "# Initialize the LLM\n",
    "llm = ChatOpenAI(model=\"gpt-4o-mini\")\n",
    "\n",
    "# Define the tool\n",
    "@tool\n",
    "def complex_tool(int_arg: int, float_arg: float, dict_arg: dict) -> float:\n",
    "    \"\"\"Perform a calculation with the provided arguments.\"\"\"\n",
    "    return int_arg * float_arg + len(dict_arg)\n",
    "\n",
    "# Bind tools to the LLM\n",
    "llm_with_tools = llm.bind_tools([complex_tool])\n",
    "\n",
    "# Error handling function\n",
    "def try_except_tool(tool_args: dict, config: RunnableConfig):\n",
    "    try:\n",
    "        return complex_tool.invoke(tool_args, config=config)\n",
    "    except Exception as e:\n",
    "        return f\"Tool invocation failed:\\nArguments: {tool_args}\\nError: {type(e)}: {e}\"\n",
    "\n",
    "# Example chain with error handling\n",
    "chain = llm_with_tools | (lambda msg: {**msg.tool_calls[0][\"args\"], \"dict_arg\": {}}) | try_except_tool\n",
    "\n",
    "# Test invocation\n",
    "result = chain.invoke(\n",
    "    \"Use complex tool with args 5, 2.1, and an empty dictionary. Don't forget dict_arg.\"\n",
    ")\n",
    "print(result)\n"
   ]
  },
  {
   "cell_type": "markdown",
   "metadata": {},
   "source": [
    "# . Fallback to a Better Model\n",
    "If the tool call fails, you can retry using a fallback model."
   ]
  },
  {
   "cell_type": "code",
   "execution_count": 6,
   "metadata": {},
   "outputs": [
    {
     "name": "stdout",
     "output_type": "stream",
     "text": [
      "10.5\n"
     ]
    }
   ],
   "source": [
    "# Define fallback model and chain\n",
    "better_model = ChatOpenAI(model=\"gpt-4-1106-preview\", temperature=0).bind_tools(\n",
    "    [complex_tool], tool_choice=\"complex_tool\"\n",
    ")\n",
    "\n",
    "better_chain = better_model | (lambda msg: msg.tool_calls[0][\"args\"]) | complex_tool\n",
    "\n",
    "# Add a lambda function to provide default values for missing arguments\n",
    "def handle_missing_args(args):\n",
    "    # Provide a default empty dictionary for `dict_arg` if missing\n",
    "    args.setdefault(\"dict_arg\", {})\n",
    "    return args\n",
    "\n",
    "# Update the original chain with error handling for missing arguments\n",
    "chain_with_error_handling = llm_with_tools | (lambda msg: handle_missing_args(msg.tool_calls[0][\"args\"])) | complex_tool\n",
    "\n",
    "# Add fallback to the chain\n",
    "chain_with_fallback = chain_with_error_handling.with_fallbacks([better_chain])\n",
    "\n",
    "# Test invocation\n",
    "result = chain_with_fallback.invoke(\n",
    "    \"Use complex tool with args 5, 2.1, and an empty dictionary. Don't forget dict_arg.\"\n",
    ")\n",
    "print(result)\n"
   ]
  },
  {
   "cell_type": "markdown",
   "metadata": {},
   "source": [
    "# . Retry with Exception Details\n",
    "For a more sophisticated error recovery, the chain can retry using the exception details to adjust its behavior."
   ]
  },
  {
   "cell_type": "code",
   "execution_count": 4,
   "metadata": {},
   "outputs": [
    {
     "name": "stdout",
     "output_type": "stream",
     "text": [
      "10.5\n"
     ]
    }
   ],
   "source": [
    "from langchain_core.messages import AIMessage, HumanMessage, ToolCall, ToolMessage\n",
    "from langchain_core.prompts import ChatPromptTemplate\n",
    "\n",
    "class CustomToolException(Exception):\n",
    "    def __init__(self, tool_call: ToolCall, exception: Exception):\n",
    "        super().__init__()\n",
    "        self.tool_call = tool_call\n",
    "        self.exception = exception\n",
    "\n",
    "# Define tool custom exception handler\n",
    "def tool_custom_exception(msg: AIMessage, config: RunnableConfig):\n",
    "    try:\n",
    "        return complex_tool.invoke(msg.tool_calls[0][\"args\"], config=config)\n",
    "    except Exception as e:\n",
    "        raise CustomToolException(msg.tool_calls[0], e)\n",
    "\n",
    "# Convert exception to messages for retry\n",
    "def exception_to_messages(inputs: dict):\n",
    "    exception = inputs.pop(\"exception\")\n",
    "    messages = [\n",
    "        AIMessage(content=\"\", tool_calls=[exception.tool_call]),\n",
    "        ToolMessage(\n",
    "            tool_call_id=exception.tool_call[\"id\"], content=str(exception.exception)\n",
    "        ),\n",
    "        HumanMessage(\n",
    "            content=\"The last tool call raised an exception. Correct the arguments and retry.\"\n",
    "        ),\n",
    "    ]\n",
    "    inputs[\"last_output\"] = messages\n",
    "    return inputs\n",
    "\n",
    "# Prompt with placeholders for retries\n",
    "prompt = ChatPromptTemplate.from_messages(\n",
    "    [(\"human\", \"{input}\"), (\"placeholder\", \"{last_output}\")]\n",
    ")\n",
    "\n",
    "# Define chain with retry mechanism\n",
    "chain = prompt | llm_with_tools | tool_custom_exception\n",
    "self_correcting_chain = chain.with_fallbacks(\n",
    "    [exception_to_messages | chain], exception_key=\"exception\"\n",
    ")\n",
    "\n",
    "# Test invocation\n",
    "result = self_correcting_chain.invoke(\n",
    "    {\"input\": \"Use complex tool with args 5, 2.1, and an empty dictionary. Don't forget dict_arg.\"}\n",
    ")\n",
    "print(result)\n"
   ]
  }
 ],
 "metadata": {
  "kernelspec": {
   "display_name": "venv",
   "language": "python",
   "name": "python3"
  },
  "language_info": {
   "codemirror_mode": {
    "name": "ipython",
    "version": 3
   },
   "file_extension": ".py",
   "mimetype": "text/x-python",
   "name": "python",
   "nbconvert_exporter": "python",
   "pygments_lexer": "ipython3",
   "version": "3.10.5"
  }
 },
 "nbformat": 4,
 "nbformat_minor": 2
}
