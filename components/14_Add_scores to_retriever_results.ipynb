{
 "cells": [
  {
   "cell_type": "markdown",
   "metadata": {},
   "source": [
    "To add retrieval scores to results from retrievers in LangChain, you can follow these steps based on the type of retriever:\n",
    "\n",
    "# 1. Adding Scores to Vector Store Retriever Results\n",
    "For a vector store retriever (e.g., PineconeVectorStore), use a wrapper function around similarity_search_with_score to include similarity scores in each document's metadata. Here’s an example:"
   ]
  },
  {
   "cell_type": "code",
   "execution_count": 1,
   "metadata": {},
   "outputs": [],
   "source": [
    "from langchain_core.documents import Document\n",
    "from langchain_core.runnables import chain\n",
    "from typing import List\n",
    "\n",
    "@chain\n",
    "def retriever(query: str) -> List[Document]:\n",
    "    docs, scores = zip(*vectorstore.similarity_search_with_score(query))\n",
    "    for doc, score in zip(docs, scores):\n",
    "        doc.metadata[\"score\"] = score\n",
    "    return docs\n"
   ]
  },
  {
   "cell_type": "markdown",
   "metadata": {},
   "source": [
    "# 2. Adding Scores in SelfQueryRetriever\n",
    "The SelfQueryRetriever uses an LLM to generate a query, which can also filter results based on metadata. To propagate similarity scores, subclass SelfQueryRetriever and override its _get_docs_with_query method:"
   ]
  },
  {
   "cell_type": "code",
   "execution_count": 2,
   "metadata": {},
   "outputs": [],
   "source": [
    "from typing import Any, Dict\n",
    "from langchain.retrievers.self_query.base import SelfQueryRetriever\n",
    "\n",
    "class CustomSelfQueryRetriever(SelfQueryRetriever):\n",
    "    def _get_docs_with_query(\n",
    "        self, query: str, search_kwargs: Dict[str, Any]\n",
    "    ) -> List[Document]:\n",
    "        docs, scores = zip(*self.vectorstore.similarity_search_with_score(query, **search_kwargs))\n",
    "        for doc, score in zip(docs, scores):\n",
    "            doc.metadata[\"score\"] = score\n",
    "        return docs\n"
   ]
  },
  {
   "cell_type": "markdown",
   "metadata": {},
   "source": [
    "# 3. Adding Scores in MultiVectorRetriever\n",
    "For a MultiVectorRetriever, which handles documents with multiple vectors (e.g., chunks of a larger document), subclass MultiVectorRetriever and override _get_relevant_documents. This allows you to:\n",
    "\n",
    "Add scores to each sub-document’s metadata.\n",
    "Include relevant sub-documents with their scores in the parent document’s metadata."
   ]
  },
  {
   "cell_type": "markdown",
   "metadata": {},
   "source": [
    "# "
   ]
  },
  {
   "cell_type": "code",
   "execution_count": 3,
   "metadata": {},
   "outputs": [],
   "source": [
    "from collections import defaultdict\n",
    "from langchain.retrievers import MultiVectorRetriever\n",
    "\n",
    "class CustomMultiVectorRetriever(MultiVectorRetriever):\n",
    "    def _get_relevant_documents(\n",
    "        self, query: str, *, run_manager\n",
    "    ) -> List[Document]:\n",
    "        results = self.vectorstore.similarity_search_with_score(query, **self.search_kwargs)\n",
    "        id_to_doc = defaultdict(list)\n",
    "        \n",
    "        for doc, score in results:\n",
    "            doc_id = doc.metadata.get(\"doc_id\")\n",
    "            if doc_id:\n",
    "                doc.metadata[\"score\"] = score\n",
    "                id_to_doc[doc_id].append(doc)\n",
    "        \n",
    "        docs = []\n",
    "        for _id, sub_docs in id_to_doc.items():\n",
    "            docstore_docs = self.docstore.mget([_id])\n",
    "            if docstore_docs:\n",
    "                if doc := docstore_docs[0]:\n",
    "                    doc.metadata[\"sub_docs\"] = sub_docs\n",
    "                    docs.append(doc)\n",
    "        \n",
    "        return docs\n"
   ]
  },
  {
   "cell_type": "code",
   "execution_count": null,
   "metadata": {},
   "outputs": [],
   "source": []
  }
 ],
 "metadata": {
  "kernelspec": {
   "display_name": "venv",
   "language": "python",
   "name": "python3"
  },
  "language_info": {
   "codemirror_mode": {
    "name": "ipython",
    "version": 3
   },
   "file_extension": ".py",
   "mimetype": "text/x-python",
   "name": "python",
   "nbconvert_exporter": "python",
   "pygments_lexer": "ipython3",
   "version": "3.10.5"
  }
 },
 "nbformat": 4,
 "nbformat_minor": 2
}
