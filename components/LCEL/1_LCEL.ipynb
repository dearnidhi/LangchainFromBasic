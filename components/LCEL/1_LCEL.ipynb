{
 "cells": [
  {
   "cell_type": "markdown",
   "metadata": {},
   "source": [
    "# LangChain Expression Language (LCEL)"
   ]
  },
  {
   "cell_type": "markdown",
   "metadata": {},
   "source": [
    "# Prerequisites for Using LCEL\n",
    "* 1 Runnable Interface: LCEL is based on the Runnable interface. This means every component, or \"Runnable,\" is compatible with LCEL if it implements the Runnable interface. This allows chaining of different Runnables and creates flexible workflows.\n",
    "\n"
   ]
  },
  {
   "cell_type": "markdown",
   "metadata": {},
   "source": [
    "* 2 Core Understanding of LCEL Composition Primitives:\n",
    "\n",
    "  a. RunnableSequence: For sequential chains.\n",
    "\n",
    "  b. RunnableParallel: For parallel execution, enabling faster runtime by processing tasks concurrently."
   ]
  },
  {
   "cell_type": "markdown",
   "metadata": {},
   "source": [
    "# When to Use LCEL\n",
    "* Simple Chains: LCEL is ideal for straightforward orchestration, such as single steps (prompt → LLM → parser).\n",
    "* Complex Chains: For more intricate workflows involving branching or cycles, LangGraph is recommended, although LCEL can still be used for individual nodes."
   ]
  },
  {
   "cell_type": "markdown",
   "metadata": {},
   "source": [
    "# Benefits of Using LCEL:"
   ]
  },
  {
   "cell_type": "markdown",
   "metadata": {},
   "source": [
    "* Parallel Execution: Use RunnableParallel or RunnableBatch APIs to process tasks concurrently.\n",
    "* Tracing and Observability: Chains in LCEL integrate with LangSmith, providing complete step-by-step logging.\n",
    "* Deployability: Chains can be deployed directly with LangServe."
   ]
  },
  {
   "cell_type": "code",
   "execution_count": 6,
   "metadata": {},
   "outputs": [],
   "source": [
    "from langchain_core.runnables import RunnableSequence, RunnableLambda\n",
    "\n",
    "# Define runnable1 and runnable2 as simple Runnables using RunnableLambda\n",
    "runnable1 = RunnableLambda(lambda x: x + \" processed by runnable1\")\n",
    "runnable2 = RunnableLambda(lambda x: x + \" processed by runnable2\")\n",
    "\n"
   ]
  },
  {
   "cell_type": "code",
   "execution_count": null,
   "metadata": {},
   "outputs": [],
   "source": [
    "chain = RunnableSequence(first=runnable1, last=runnable2)"
   ]
  },
  {
   "cell_type": "code",
   "execution_count": 9,
   "metadata": {},
   "outputs": [
    {
     "name": "stdout",
     "output_type": "stream",
     "text": [
      "Initial input processed by runnable1 processed by runnable2\n"
     ]
    }
   ],
   "source": [
    "# Invoke the chain with an example input\n",
    "some_input = \"Initial input\"\n",
    "final_output = chain.invoke(some_input)\n",
    "\n",
    "print(final_output)"
   ]
  },
  {
   "cell_type": "markdown",
   "metadata": {},
   "source": [
    "# RunnableParallel"
   ]
  },
  {
   "cell_type": "code",
   "execution_count": 10,
   "metadata": {},
   "outputs": [],
   "source": [
    "from langchain_core.runnables import RunnableParallel\n",
    "chain = RunnableParallel({\n",
    "    \"key1\": runnable1,\n",
    "    \"key2\": runnable2,\n",
    "})"
   ]
  },
  {
   "cell_type": "code",
   "execution_count": 11,
   "metadata": {},
   "outputs": [],
   "source": [
    "final_output = chain.invoke(some_input)"
   ]
  },
  {
   "cell_type": "code",
   "execution_count": 12,
   "metadata": {},
   "outputs": [
    {
     "data": {
      "text/plain": [
       "{'key1': 'Initial input processed by runnable1',\n",
       " 'key2': 'Initial input processed by runnable2'}"
      ]
     },
     "execution_count": 12,
     "metadata": {},
     "output_type": "execute_result"
    }
   ],
   "source": [
    "{\n",
    "    \"key1\": runnable1.invoke(some_input),\n",
    "    \"key2\": runnable2.invoke(some_input),\n",
    "}"
   ]
  },
  {
   "cell_type": "code",
   "execution_count": 13,
   "metadata": {},
   "outputs": [],
   "source": [
    "chain = runnable1 | runnable2"
   ]
  },
  {
   "cell_type": "markdown",
   "metadata": {},
   "source": [
    "# The .pipe method`\n",
    "If you have moral qualms with operator overloading, you can use the .pipe method instead. This is equivalent to the | operator."
   ]
  },
  {
   "cell_type": "code",
   "execution_count": 14,
   "metadata": {},
   "outputs": [],
   "source": [
    "chain = runnable1.pipe(runnable2)"
   ]
  },
  {
   "cell_type": "code",
   "execution_count": null,
   "metadata": {},
   "outputs": [],
   "source": [
    "z"
   ]
  }
 ],
 "metadata": {
  "kernelspec": {
   "display_name": "venv",
   "language": "python",
   "name": "python3"
  },
  "language_info": {
   "name": "python",
   "version": "3.10.5"
  }
 },
 "nbformat": 4,
 "nbformat_minor": 2
}
