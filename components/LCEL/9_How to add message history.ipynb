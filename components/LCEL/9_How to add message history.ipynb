{
 "cells": [
  {
   "cell_type": "code",
   "execution_count": 6,
   "metadata": {},
   "outputs": [],
   "source": [
    "import os\n",
    "from dotenv import load_dotenv\n",
    "from getpass import getpass\n",
    "\n",
    "# Load environment variables from the .env file\n",
    "load_dotenv()\n",
    "\n",
    "# Check if the OPENAI_API_KEY is in the environment variables\n",
    "if \"GROQ_API_KEY\" not in os.environ:\n",
    "    os.environ[\"GROQ_API_KEY\"] = getpass(\"Enter your groq API Key: \")\n",
    "\n",
    "# Now, you can use the API key as needed\n",
    "GROQ_API_KEY = os.environ.get(\"GROQ_API_KEY\")\n"
   ]
  },
  {
   "cell_type": "code",
   "execution_count": 7,
   "metadata": {},
   "outputs": [
    {
     "name": "stdout",
     "output_type": "stream",
     "text": [
      "\n"
     ]
    }
   ],
   "source": [
    "print(GROQ_API_KEY)"
   ]
  },
  {
   "cell_type": "code",
   "execution_count": null,
   "metadata": {},
   "outputs": [],
   "source": [
    "import os\n",
    "import torch\n",
    "from transformers import AutoModelForSeq2SeqLM, AutoTokenizer\n",
    "\n",
    "# Load pre-trained model and tokenizer\n",
    "model_name = \"t5-small\"\n",
    "model = AutoModelForSeq2SeqLM.from_pretrained(model_name)\n",
    "tokenizer = AutoTokenizer.from_pretrained(model_name)\n",
    "\n",
    "# Define a function to generate a response given a prompt and conversation history\n",
    "def generate_response(prompts, history):\n",
    "    # Preprocess the prompts and history\n",
    "    inputs = []\n",
    "    for prompt in prompts:\n",
    "        inputs.append(tokenizer.encode_plus(\n",
    "            prompt,\n",
    "            history,\n",
    "            add_special_tokens=True,\n",
    "            max_length=512,\n",
    "            return_attention_mask=True,\n",
    "            return_tensors=\"pt\",\n",
    "        ))\n",
    "\n",
    "    # Generate responses\n",
    "    outputs = model.generate(\n",
    "        torch.cat([input[\"input_ids\"] for input in inputs]),\n",
    "        attention_mask=torch.cat([input[\"attention_mask\"] for input in inputs]),\n",
    "        max_length=512,\n",
    "    )\n",
    "\n",
    "    # Convert responses to text\n",
    "    responses = []\n",
    "    for output in outputs:\n",
    "        responses.append(tokenizer.decode(output, skip_special_tokens=True))\n",
    "\n",
    "    return responses\n",
    "\n",
    "# Define a function to manage the conversation history\n",
    "def manage_history(history, new_messages):\n",
    "    # Append the new messages to the history\n",
    "    history.extend(new_messages)\n",
    "\n",
    "    # Return the updated history\n",
    "    return history\n",
    "\n",
    "# Initialize the conversation history\n",
    "history = []\n",
    "\n",
    "# Test the chatbot\n",
    "while True:\n",
    "    # Get user input\n",
    "    user_inputs = input(\"User: \").split(\",\")\n",
    "\n",
    "    # Add the user inputs to the history\n",
    "    history = manage_history(history, user_inputs)\n",
    "\n",
    "    # Generate responses\n",
    "    responses = generate_response(user_inputs, history)\n",
    "\n",
    "    # Print the responses\n",
    "    for response in responses:\n",
    "        print(\"AI:\", response)"
   ]
  },
  {
   "cell_type": "code",
   "execution_count": null,
   "metadata": {},
   "outputs": [],
   "source": []
  }
 ],
 "metadata": {
  "kernelspec": {
   "display_name": "venv",
   "language": "python",
   "name": "python3"
  },
  "language_info": {
   "codemirror_mode": {
    "name": "ipython",
    "version": 3
   },
   "file_extension": ".py",
   "mimetype": "text/x-python",
   "name": "python",
   "nbconvert_exporter": "python",
   "pygments_lexer": "ipython3",
   "version": "3.10.5"
  }
 },
 "nbformat": 4,
 "nbformat_minor": 2
}
