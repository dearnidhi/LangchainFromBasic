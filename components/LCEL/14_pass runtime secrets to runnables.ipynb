{
 "cells": [
  {
   "cell_type": "markdown",
   "metadata": {},
   "source": [
    "# How to pass runtime secrets to runnables"
   ]
  },
  {
   "cell_type": "markdown",
   "metadata": {},
   "source": [
    "To pass runtime secrets to LangChain runnables using RunnableConfig, you can follow the approach demonstrated in the example you provided. This allows you to securely pass sensitive information (such as API keys or passwords) to tools or runnables at runtime without exposing them in traces or logs."
   ]
  },
  {
   "cell_type": "markdown",
   "metadata": {},
   "source": [
    "# Key Steps:"
   ]
  },
  {
   "cell_type": "markdown",
   "metadata": {},
   "source": [
    "Use RunnableConfig: You will use RunnableConfig to pass the secrets at runtime. This ensures that the secrets are not traced or logged in the LangSmith trace."
   ]
  },
  {
   "cell_type": "markdown",
   "metadata": {},
   "source": [
    "Prefix Secrets with __: To ensure secrets are not traced, you need to pass them with a __ prefix. This is how LangChain handles secrets securely."
   ]
  },
  {
   "cell_type": "markdown",
   "metadata": {},
   "source": [
    "Invoke the Runnable: When you invoke the tool or runnable, you can pass the secrets as part of the configurable field in RunnableConfig."
   ]
  },
  {
   "cell_type": "code",
   "execution_count": 1,
   "metadata": {},
   "outputs": [
    {
     "name": "stdout",
     "output_type": "stream",
     "text": [
      "Result: 7\n"
     ]
    }
   ],
   "source": [
    "from langchain_core.runnables import RunnableConfig\n",
    "from langchain_core.tools import tool\n",
    "\n",
    "# Define a tool that uses a secret passed via RunnableConfig\n",
    "@tool\n",
    "def foo(x: int, config: RunnableConfig) -> int:\n",
    "    \"\"\"Sum x and a secret int.\"\"\"\n",
    "    # Access the secret using the 'configurable' field with the '__' prefix\n",
    "    secret_int = config[\"configurable\"][\"__top_secret_int\"]\n",
    "    return x + secret_int\n",
    "\n",
    "# Example runtime secret to pass along\n",
    "runtime_secrets = {\n",
    "    \"configurable\": {\n",
    "        \"__top_secret_int\": 2,  # Secret value prefixed with __\n",
    "        \"traced_key\": \"bar\"  # Regular field that will be traced\n",
    "    }\n",
    "}\n",
    "\n",
    "# Invoke the tool with the secret and non-secret config\n",
    "result = foo.invoke({\"x\": 5}, runtime_secrets)\n",
    "\n",
    "print(f\"Result: {result}\")\n"
   ]
  },
  {
   "cell_type": "markdown",
   "metadata": {},
   "source": [
    "# Explanation:\n",
    "\n",
    "foo Tool: The foo function takes an integer x and a config object, which is an instance of RunnableConfig. The secret value __top_secret_int is passed within the config dictionary.\n",
    "\n",
    "Secrets Handling: Secrets are passed with the __ prefix (e.g., __top_secret_int), which tells LangChain to handle them securely and not include them in the trace logs.\n",
    "\n",
    "Invocation: When invoking foo, you pass the runtime_secrets dictionary containing the secrets and other non-sensitive configuration."
   ]
  },
  {
   "cell_type": "markdown",
   "metadata": {},
   "source": [
    "# Output:\n",
    "The result of the invocation would be x + 2, since the secret top_secret_int is 2 and x is passed as 5, so the result will be 7.\n",
    "\n",
    "LangSmith will record the non-secret key (traced_key), but __top_secret_int will not be logged as part of the trace for security."
   ]
  },
  {
   "cell_type": "markdown",
   "metadata": {},
   "source": [
    "# Additional Considerations:\n",
    "Secrets Handling: Always ensure that sensitive information like API keys, passwords, and tokens are passed with the __ prefix, as this will keep them secure and not logged in trace data.\n",
    "\n",
    "Tool Configuration: You can configure multiple secrets or other non-sensitive configuration options using RunnableConfig, making it flexible to pass additional parameters securely"
   ]
  },
  {
   "cell_type": "markdown",
   "metadata": {},
   "source": []
  }
 ],
 "metadata": {
  "kernelspec": {
   "display_name": "venv",
   "language": "python",
   "name": "python3"
  },
  "language_info": {
   "codemirror_mode": {
    "name": "ipython",
    "version": 3
   },
   "file_extension": ".py",
   "mimetype": "text/x-python",
   "name": "python",
   "nbconvert_exporter": "python",
   "pygments_lexer": "ipython3",
   "version": "3.10.5"
  }
 },
 "nbformat": 4,
 "nbformat_minor": 2
}
