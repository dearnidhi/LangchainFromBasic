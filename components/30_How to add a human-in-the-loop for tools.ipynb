{
 "cells": [
  {
   "cell_type": "markdown",
   "metadata": {},
   "source": [
    "# How to add a human-in-the-loop for tools"
   ]
  },
  {
   "cell_type": "markdown",
   "metadata": {},
   "source": [
    "There are certain tools that we don't trust a model to execute on its own. One thing we can do in such situations is require human approval before the tool is invoked."
   ]
  },
  {
   "cell_type": "markdown",
   "metadata": {},
   "source": [
    "Steps for Adding Human-in-the-Loop (HITL)"
   ]
  },
  {
   "cell_type": "markdown",
   "metadata": {},
   "source": [
    "2. Define Tools\n",
    "\n",
    "Here are two example tools:\n",
    "\n",
    "* count_emails: Counts the number of emails received in the last n days.\n",
    "* send_email: Sends an email to a recipient.\n"
   ]
  },
  {
   "cell_type": "code",
   "execution_count": 6,
   "metadata": {},
   "outputs": [],
   "source": [
    "from langchain_core.tools import tool\n",
    "\n",
    "@tool\n",
    "def count_emails(last_n_days: int) -> int:\n",
    "    \"\"\"Counts the number of emails. Dummy implementation.\"\"\"\n",
    "    return last_n_days * 2\n",
    "\n",
    "@tool\n",
    "def send_email(message: str, recipient: str) -> str:\n",
    "    \"\"\"Sends an email. Dummy implementation.\"\"\"\n",
    "    return f\"Email sent to {recipient}: {message}\"\n"
   ]
  },
  {
   "cell_type": "markdown",
   "metadata": {},
   "source": [
    "3. Set Up LLM and Bind Tools\n",
    "\n",
    "Use a LangChain-compatible LLM like OpenAI's ChatGPT and bind the tools to it:"
   ]
  },
  {
   "cell_type": "code",
   "execution_count": 7,
   "metadata": {},
   "outputs": [],
   "source": [
    "from langchain_openai import ChatOpenAI\n",
    "\n",
    "llm = ChatOpenAI(model=\"gpt-4o-mini\")\n",
    "\n",
    "tools = [count_emails, send_email]\n",
    "llm_with_tools = llm.bind_tools(tools)\n"
   ]
  },
  {
   "cell_type": "markdown",
   "metadata": {},
   "source": [
    "4. Define Human Approval Logic\n",
    "\n",
    "This function intercepts the tool calls proposed by the LLM and prompts a human for approval."
   ]
  },
  {
   "cell_type": "code",
   "execution_count": 8,
   "metadata": {},
   "outputs": [],
   "source": [
    "import json\n",
    "\n",
    "class NotApproved(Exception):\n",
    "    \"\"\"Custom exception raised when tool execution is not approved.\"\"\"\n",
    "\n",
    "def human_approval(tool_calls):\n",
    "    \"\"\"Ask for human approval before executing tools.\"\"\"\n",
    "    for tool_call in tool_calls:\n",
    "        # Display proposed tool invocation details\n",
    "        print(\"Tool invocation request:\")\n",
    "        print(json.dumps(tool_call, indent=2))\n",
    "        \n",
    "        # Get human approval\n",
    "        response = input(\"\\nApprove this tool invocation? (yes/no): \")\n",
    "        if response.lower() not in {\"yes\", \"y\"}:\n",
    "            raise NotApproved(f\"Tool invocation not approved: {tool_call}\")\n",
    "    return tool_calls\n"
   ]
  },
  {
   "cell_type": "markdown",
   "metadata": {},
   "source": [
    "5. Create the Chain\n",
    "\n",
    "Combine the LLM and tools with the human approval step in a chain."
   ]
  },
  {
   "cell_type": "code",
   "execution_count": 9,
   "metadata": {},
   "outputs": [],
   "source": [
    "def execute_chain(input_text: str):\n",
    "    # Step 1: Generate tool invocation proposals from LLM\n",
    "    ai_message = llm_with_tools.invoke(input_text)\n",
    "    \n",
    "    # Step 2: Get human approval\n",
    "    try:\n",
    "        approved_calls = human_approval(ai_message.tool_calls)\n",
    "    except NotApproved as e:\n",
    "        print(e)\n",
    "        return\n",
    "    \n",
    "    # Step 3: Execute approved tools\n",
    "    results = []\n",
    "    for tool_call in approved_calls:\n",
    "        tool_name = tool_call[\"name\"]\n",
    "        tool_args = tool_call[\"args\"]\n",
    "        tool = next(t for t in tools if t.name == tool_name)\n",
    "        results.append(tool.invoke(tool_args))\n",
    "    \n",
    "    return results\n"
   ]
  },
  {
   "cell_type": "markdown",
   "metadata": {},
   "source": [
    "6. Example Usage\n",
    "\n",
    "You can now run the chain with human approval included:"
   ]
  },
  {
   "cell_type": "code",
   "execution_count": 10,
   "metadata": {},
   "outputs": [
    {
     "name": "stdout",
     "output_type": "stream",
     "text": [
      "Tool invocation request:\n",
      "{\n",
      "  \"name\": \"count_emails\",\n",
      "  \"args\": {\n",
      "    \"last_n_days\": 5\n",
      "  },\n",
      "  \"id\": \"call_pu6EnY5PCXAX5pLYatwlyBiV\",\n",
      "  \"type\": \"tool_call\"\n",
      "}\n",
      "[10]\n",
      "Tool invocation request:\n",
      "{\n",
      "  \"name\": \"send_email\",\n",
      "  \"args\": {\n",
      "    \"message\": \"Meeting at 3 PM.\",\n",
      "    \"recipient\": \"john@example.com\"\n",
      "  },\n",
      "  \"id\": \"call_s1Hecy1ro2EyFimOnl3vI9n3\",\n",
      "  \"type\": \"tool_call\"\n",
      "}\n",
      "['Email sent to john@example.com: Meeting at 3 PM.']\n"
     ]
    }
   ],
   "source": [
    "# Input asking about email count in the past few days\n",
    "print(execute_chain(\"How many emails did I receive in the last 5 days?\"))\n",
    "\n",
    "# Input for sending an email\n",
    "print(execute_chain(\"Send an email to john@example.com saying 'Meeting at 3 PM.'\"))\n"
   ]
  },
  {
   "cell_type": "markdown",
   "metadata": {},
   "source": [
    "# Execution Workflow\n",
    "1. User Input: The user inputs a query (e.g., \"How many emails did I receive in the last 5 days?\").\n",
    "2. Tool Invocation Proposal:\n",
    "* The LLM generates tool calls (e.g., count_emails(last_n_days=5)).\n",
    "3. Human Approval:\n",
    "* A prompt is displayed to approve or reject the tool call.\n",
    "4. Tool Execution:\n",
    "* If approved, the tool is executed; otherwise, the process stops, and an exception is raised.\n"
   ]
  },
  {
   "cell_type": "markdown",
   "metadata": {},
   "source": [
    "# Advantages\n",
    "\n",
    "Prevents unintended or unsafe tool execution.\n",
    "\n",
    "Enables humans to remain in control during critical decisions.\n",
    "\n",
    "Easily extendable for additional tools or more complex approval logic."
   ]
  }
 ],
 "metadata": {
  "kernelspec": {
   "display_name": "venv",
   "language": "python",
   "name": "python3"
  },
  "language_info": {
   "codemirror_mode": {
    "name": "ipython",
    "version": 3
   },
   "file_extension": ".py",
   "mimetype": "text/x-python",
   "name": "python",
   "nbconvert_exporter": "python",
   "pygments_lexer": "ipython3",
   "version": "3.10.5"
  }
 },
 "nbformat": 4,
 "nbformat_minor": 2
}
