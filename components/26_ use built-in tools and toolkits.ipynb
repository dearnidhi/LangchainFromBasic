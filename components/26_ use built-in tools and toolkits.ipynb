{
 "cells": [
  {
   "cell_type": "markdown",
   "metadata": {},
   "source": [
    "# How to use built-in tools and toolkits"
   ]
  },
  {
   "cell_type": "markdown",
   "metadata": {},
   "source": [
    "LangChain provides a framework to integrate various tools and toolkits that help automate processes and extend the functionality of language models. Toolkits group related tools that serve specific tasks, while individual tools allow you to interact with external services or APIs"
   ]
  },
  {
   "cell_type": "markdown",
   "metadata": {},
   "source": [
    "# 1. Using Built-in Tools\n",
    "\n",
    "LangChain has many built-in tools, such as Wikipedia integration, which allow you to query external data sources. To use such tools, you can install the necessary packages and utilize the provided classes."
   ]
  },
  {
   "cell_type": "markdown",
   "metadata": {},
   "source": [
    "# Example: Wikipedia Query Tool\n",
    "Prerequisites:\n",
    "\n",
    "Install the required packages:"
   ]
  },
  {
   "cell_type": "code",
   "execution_count": 8,
   "metadata": {},
   "outputs": [
    {
     "name": "stderr",
     "output_type": "stream",
     "text": [
      "WARNING: Retrying (Retry(total=4, connect=None, read=None, redirect=None, status=None)) after connection broken by 'NewConnectionError('<pip._vendor.urllib3.connection.HTTPSConnection object at 0x000001A0F0981480>: Failed to establish a new connection: [Errno 11001] getaddrinfo failed')': /simple/langchain-community/\n",
      "WARNING: Retrying (Retry(total=3, connect=None, read=None, redirect=None, status=None)) after connection broken by 'NewConnectionError('<pip._vendor.urllib3.connection.HTTPSConnection object at 0x000001A0F09817B0>: Failed to establish a new connection: [Errno 11001] getaddrinfo failed')': /simple/langchain-community/\n",
      "WARNING: Retrying (Retry(total=2, connect=None, read=None, redirect=None, status=None)) after connection broken by 'NewConnectionError('<pip._vendor.urllib3.connection.HTTPSConnection object at 0x000001A0F0981AE0>: Failed to establish a new connection: [Errno 11001] getaddrinfo failed')': /simple/langchain-community/\n",
      "WARNING: Retrying (Retry(total=1, connect=None, read=None, redirect=None, status=None)) after connection broken by 'NewConnectionError('<pip._vendor.urllib3.connection.HTTPSConnection object at 0x000001A0F0981C90>: Failed to establish a new connection: [Errno 11001] getaddrinfo failed')': /simple/langchain-community/\n",
      "WARNING: Retrying (Retry(total=0, connect=None, read=None, redirect=None, status=None)) after connection broken by 'NewConnectionError('<pip._vendor.urllib3.connection.HTTPSConnection object at 0x000001A0F0981E40>: Failed to establish a new connection: [Errno 11001] getaddrinfo failed')': /simple/langchain-community/\n",
      "WARNING: Retrying (Retry(total=4, connect=None, read=None, redirect=None, status=None)) after connection broken by 'NewConnectionError('<pip._vendor.urllib3.connection.HTTPSConnection object at 0x000001A0F0982CB0>: Failed to establish a new connection: [Errno 11001] getaddrinfo failed')': /simple/wikipedia/\n",
      "WARNING: Retrying (Retry(total=3, connect=None, read=None, redirect=None, status=None)) after connection broken by 'NewConnectionError('<pip._vendor.urllib3.connection.HTTPSConnection object at 0x000001A0F0982E90>: Failed to establish a new connection: [Errno 11001] getaddrinfo failed')': /simple/wikipedia/\n",
      "WARNING: Retrying (Retry(total=2, connect=None, read=None, redirect=None, status=None)) after connection broken by 'NewConnectionError('<pip._vendor.urllib3.connection.HTTPSConnection object at 0x000001A0F0983040>: Failed to establish a new connection: [Errno 11001] getaddrinfo failed')': /simple/wikipedia/\n",
      "WARNING: Retrying (Retry(total=1, connect=None, read=None, redirect=None, status=None)) after connection broken by 'NewConnectionError('<pip._vendor.urllib3.connection.HTTPSConnection object at 0x000001A0F09831F0>: Failed to establish a new connection: [Errno 11001] getaddrinfo failed')': /simple/wikipedia/\n",
      "WARNING: Retrying (Retry(total=0, connect=None, read=None, redirect=None, status=None)) after connection broken by 'NewConnectionError('<pip._vendor.urllib3.connection.HTTPSConnection object at 0x000001A0F09818A0>: Failed to establish a new connection: [Errno 11001] getaddrinfo failed')': /simple/wikipedia/\n",
      "\n",
      "[notice] A new release of pip is available: 24.2 -> 24.3.1\n",
      "[notice] To update, run: python.exe -m pip install --upgrade pip\n"
     ]
    }
   ],
   "source": [
    "!pip install -qU langchain-community wikipedia\n"
   ]
  },
  {
   "cell_type": "code",
   "execution_count": 2,
   "metadata": {},
   "outputs": [
    {
     "name": "stdout",
     "output_type": "stream",
     "text": [
      "Page: LangChain\n",
      "Summary: LangChain is a software framework that helps facilitate the integration of \n"
     ]
    }
   ],
   "source": [
    "from langchain_community.tools import WikipediaQueryRun  # Import the Wikipedia query tool\n",
    "from langchain_community.utilities import WikipediaAPIWrapper  # Import the Wikipedia API wrapper\n",
    "\n",
    "# Initialize the Wikipedia API wrapper\n",
    "api_wrapper = WikipediaAPIWrapper(top_k_results=1, doc_content_chars_max=100)\n",
    "\n",
    "# Create a tool instance using the API wrapper\n",
    "tool = WikipediaQueryRun(api_wrapper=api_wrapper)\n",
    "\n",
    "# Invoke the tool to search for a term on Wikipedia\n",
    "print(tool.invoke({\"query\": \"langchain\"}))\n"
   ]
  },
  {
   "cell_type": "markdown",
   "metadata": {},
   "source": [
    "# In the above code:\n",
    "\n",
    "* We use the WikipediaQueryRun tool to search for the term \"langchain\" on Wikipedia.\n",
    "* The tool returns a summary of the \"LangChain\" page from Wikipedia.\n",
    "* WikipediaAPIWrapper is used to interact with the Wikipedia API."
   ]
  },
  {
   "cell_type": "markdown",
   "metadata": {},
   "source": [
    "# The tool provides the following information:\n",
    "\n",
    "* Name: The name of the tool (wikipedia).\n",
    "* Description: The description of the tool (A wrapper around Wikipedia...).\n",
    "* Args schema: A dictionary that specifies the input arguments (query is a string).\n",
    "* Returns directly?: Whether the tool directly returns the results or performs some additional processing (False here)."
   ]
  },
  {
   "cell_type": "markdown",
   "metadata": {},
   "source": [
    "# 2. Customizing Built-in Tools\n",
    "\n",
    "\n",
    "LangChain allows you to customize the default tools by modifying their arguments' JSON schema or the tool's description.\n",
    "\n",
    "Example: Customizing Wikipedia Tool"
   ]
  },
  {
   "cell_type": "code",
   "execution_count": 3,
   "metadata": {},
   "outputs": [
    {
     "name": "stdout",
     "output_type": "stream",
     "text": [
      "Page: LangChain\n",
      "Summary: LangChain is a software framework that helps facilitate the integration of \n"
     ]
    }
   ],
   "source": [
    "from langchain_community.tools import WikipediaQueryRun\n",
    "from langchain_community.utilities import WikipediaAPIWrapper\n",
    "from pydantic import BaseModel, Field  # For defining custom input schemas\n",
    "\n",
    "# Custom input schema using Pydantic\n",
    "class WikiInputs(BaseModel):\n",
    "    \"\"\"Custom inputs for the Wikipedia tool.\"\"\"\n",
    "    query: str = Field(\n",
    "        description=\"Query to look up in Wikipedia, should be 3 or fewer words\"\n",
    "    )\n",
    "\n",
    "# Initialize the API wrapper\n",
    "api_wrapper = WikipediaAPIWrapper(top_k_results=1, doc_content_chars_max=100)\n",
    "\n",
    "# Create a custom tool with a new name and description\n",
    "tool = WikipediaQueryRun(\n",
    "    name=\"wiki-tool\",  # Custom name for the tool\n",
    "    description=\"Look up things in Wikipedia\",  # Custom description\n",
    "    args_schema=WikiInputs,  # Custom argument schema\n",
    "    api_wrapper=api_wrapper,  # API wrapper to interact with Wikipedia\n",
    "    return_direct=True  # Whether the tool returns the result directly\n",
    ")\n",
    "\n",
    "# Run the tool with a custom query\n",
    "print(tool.run(\"langchain\"))\n"
   ]
  },
  {
   "cell_type": "markdown",
   "metadata": {},
   "source": [
    "In this customized version:\n",
    "\n",
    "* Custom Input Schema: The WikiInputs class defines a more descriptive input schema for the query.\n",
    "* Custom Name and Description: We change the tool's name to wiki-tool and its description.\n",
    "* The args_schema now provides more meaningful input descriptions, like query being described as \"Query to look up in Wikipedia, should be 3 or fewer words.\""
   ]
  },
  {
   "cell_type": "markdown",
   "metadata": {},
   "source": [
    "# 3. Using Built-in Toolkits\n",
    "\n",
    "Toolkits in LangChain group related tools that serve a specific purpose, such as a toolkit for data retrieval, scraping, or API integrations"
   ]
  },
  {
   "cell_type": "code",
   "execution_count": 6,
   "metadata": {},
   "outputs": [
    {
     "name": "stdout",
     "output_type": "stream",
     "text": [
      "Page: LangChain\n",
      "Summary: LangChain is a software framework that helps facilitate the integration of \n"
     ]
    }
   ],
   "source": [
    "from langchain_community.tools import WikipediaQueryRun\n",
    "from langchain_community.utilities import WikipediaAPIWrapper\n",
    "from pydantic import BaseModel, Field\n",
    "\n",
    "# Define custom input schema using Pydantic\n",
    "class WikiInputs(BaseModel):\n",
    "    query: str = Field(\n",
    "        description=\"Query to look up in Wikipedia, should be 3 or fewer words\"\n",
    "    )\n",
    "\n",
    "# Initialize the API wrapper\n",
    "api_wrapper = WikipediaAPIWrapper(top_k_results=1, doc_content_chars_max=100)\n",
    "\n",
    "# Initialize the Wikipedia tool\n",
    "tool = WikipediaQueryRun(\n",
    "    name=\"wiki-tool\",\n",
    "    description=\"Look up things in Wikipedia\",\n",
    "    args_schema=WikiInputs,\n",
    "    api_wrapper=api_wrapper,\n",
    "    return_direct=True\n",
    ")\n",
    "\n",
    "# Running the tool with a query\n",
    "result = tool.run(\"langchain\")\n",
    "print(result)\n"
   ]
  },
  {
   "cell_type": "code",
   "execution_count": 7,
   "metadata": {},
   "outputs": [
    {
     "name": "stdout",
     "output_type": "stream",
     "text": [
      "['Any', 'TYPE_CHECKING', '_DEPRECATED_TOOLS', '__all__', '__builtins__', '__cached__', '__doc__', '__file__', '__getattr__', '__loader__', '__name__', '__package__', '__path__', '__spec__', '_module_lookup', 'importlib', 'wikipedia']\n"
     ]
    }
   ],
   "source": [
    "import langchain_community.tools as tools\n",
    "print(dir(tools))  # This will list all available tools and toolkits\n"
   ]
  },
  {
   "cell_type": "code",
   "execution_count": null,
   "metadata": {},
   "outputs": [],
   "source": []
  }
 ],
 "metadata": {
  "kernelspec": {
   "display_name": "venv",
   "language": "python",
   "name": "python3"
  },
  "language_info": {
   "codemirror_mode": {
    "name": "ipython",
    "version": 3
   },
   "file_extension": ".py",
   "mimetype": "text/x-python",
   "name": "python",
   "nbconvert_exporter": "python",
   "pygments_lexer": "ipython3",
   "version": "3.10.5"
  }
 },
 "nbformat": 4,
 "nbformat_minor": 2
}
