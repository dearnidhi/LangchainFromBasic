{
 "cells": [
  {
   "cell_type": "markdown",
   "metadata": {},
   "source": [
    "# How to convert Runnables to Tools"
   ]
  },
  {
   "cell_type": "markdown",
   "metadata": {},
   "source": [
    "# Step 1: Define the Runnable\n",
    "A Runnable is any callable entity that processes input and produces output. For instance, a simple function that multiplies numbers can be wrapped as a Runnable."
   ]
  },
  {
   "cell_type": "code",
   "execution_count": 1,
   "metadata": {},
   "outputs": [],
   "source": [
    "from langchain_core.runnables import RunnableLambda\n",
    "\n",
    "# Define a simple callable\n",
    "def multiply(args: dict) -> str:\n",
    "    return str(args[\"a\"] * max(args[\"b\"]))\n",
    "\n",
    "# Wrap it as a Runnable\n",
    "runnable = RunnableLambda(multiply)\n"
   ]
  },
  {
   "cell_type": "markdown",
   "metadata": {},
   "source": [
    "# Step 2: Convert to a Tool\n",
    "A Tool extends Runnable with additional constraints such as input validation and metadata like name and description.\n",
    "\n",
    " You can convert a Runnable into a Tool using the .as_tool() method.\n",
    "\n",
    "Example with Typed Input\n",
    "\n",
    "If your function has well-defined input types, you can specify them using TypedDict:"
   ]
  },
  {
   "cell_type": "code",
   "execution_count": 2,
   "metadata": {},
   "outputs": [
    {
     "name": "stderr",
     "output_type": "stream",
     "text": [
      "C:\\Users\\Admin\\AppData\\Local\\Temp\\ipykernel_16532\\1632586118.py:10: LangChainBetaWarning: This API is in beta and may change in the future.\n",
      "  runnable_tool = runnable.as_tool(\n"
     ]
    }
   ],
   "source": [
    "from typing import List\n",
    "from typing_extensions import TypedDict\n",
    "\n",
    "# Define input schema\n",
    "class Args(TypedDict):\n",
    "    a: int\n",
    "    b: List[int]\n",
    "\n",
    "# Wrap the Runnable and convert to a Tool\n",
    "runnable_tool = runnable.as_tool(\n",
    "    name=\"Multiplier Tool\",\n",
    "    description=\"Multiplies 'a' with the maximum of the list 'b'.\",\n",
    ")\n"
   ]
  },
  {
   "cell_type": "markdown",
   "metadata": {},
   "source": [
    "Example with args_schema\n",
    "\n",
    "Alternatively, you can define a custom schema for the tool arguments using pydantic:"
   ]
  },
  {
   "cell_type": "code",
   "execution_count": 3,
   "metadata": {},
   "outputs": [],
   "source": [
    "from pydantic import BaseModel, Field\n",
    "\n",
    "# Define a schema\n",
    "class MultiplySchema(BaseModel):\n",
    "    a: int = Field(..., description=\"The base integer.\")\n",
    "    b: List[int] = Field(..., description=\"List of integers.\")\n",
    "\n",
    "# Convert to a Tool with schema\n",
    "runnable_tool = runnable.as_tool(args_schema=MultiplySchema)\n"
   ]
  },
  {
   "cell_type": "markdown",
   "metadata": {},
   "source": [
    "# Step 3: Use the Tool\n",
    "Once your Runnable is converted to a Tool, you can invoke it like any other tool in LangChain:\n"
   ]
  },
  {
   "cell_type": "code",
   "execution_count": 4,
   "metadata": {},
   "outputs": [
    {
     "name": "stdout",
     "output_type": "stream",
     "text": [
      "15\n"
     ]
    }
   ],
   "source": [
    "# Invoking the tool\n",
    "result = runnable_tool.invoke({\"a\": 3, \"b\": [1, 2, 5]})\n",
    "print(result)  # Output: \"15\"\n"
   ]
  },
  {
   "cell_type": "markdown",
   "metadata": {},
   "source": [
    "# Step 4: Use Tools in Agents\n",
    "Tools can be passed to agents for interactive applications. For example, here’s how to integrate the tool with a LangGraph agent:"
   ]
  },
  {
   "cell_type": "markdown",
   "metadata": {},
   "source": [
    "Set up a Chat Model"
   ]
  },
  {
   "cell_type": "code",
   "execution_count": null,
   "metadata": {},
   "outputs": [],
   "source": [
    "from langchain_openai import ChatOpenAI\n",
    "import os\n",
    "\n",
    "os.environ[\"OPENAI_API_KEY\"] = \"\"\n",
    "llm = ChatOpenAI(model=\"gpt-4o-mini\")\n"
   ]
  },
  {
   "cell_type": "markdown",
   "metadata": {},
   "source": [
    "Integrate Tool with Agent"
   ]
  },
  {
   "cell_type": "code",
   "execution_count": 7,
   "metadata": {},
   "outputs": [
    {
     "name": "stdout",
     "output_type": "stream",
     "text": [
      "{'messages': [HumanMessage(content='Multiply 3 with the max of [1, 2, 5].', additional_kwargs={}, response_metadata={}, id='c80cec9c-49c6-4156-8f58-7934a4eac76c'), AIMessage(content='', additional_kwargs={'tool_calls': [{'id': 'call_xhQevIVmQGPJSJAxfPDlarFR', 'function': {'arguments': '{\"a\":3,\"b\":[1,2,5]}', 'name': 'multiply'}, 'type': 'function'}], 'refusal': None}, response_metadata={'token_usage': {'completion_tokens': 21, 'prompt_tokens': 148, 'total_tokens': 169, 'completion_tokens_details': {'accepted_prediction_tokens': 0, 'audio_tokens': 0, 'reasoning_tokens': 0, 'rejected_prediction_tokens': 0}, 'prompt_tokens_details': {'audio_tokens': 0, 'cached_tokens': 0}}, 'model_name': 'gpt-4o-mini-2024-07-18', 'system_fingerprint': 'fp_0705bf87c0', 'finish_reason': 'tool_calls', 'logprobs': None}, id='run-70c758a5-fb34-4185-b4ec-ec680095d4b7-0', tool_calls=[{'name': 'multiply', 'args': {'a': 3, 'b': [1, 2, 5]}, 'id': 'call_xhQevIVmQGPJSJAxfPDlarFR', 'type': 'tool_call'}], usage_metadata={'input_tokens': 148, 'output_tokens': 21, 'total_tokens': 169, 'input_token_details': {'audio': 0, 'cache_read': 0}, 'output_token_details': {'audio': 0, 'reasoning': 0}}), ToolMessage(content='15', name='multiply', id='32c4ca3c-6b82-4054-bf95-5ec3ed06cd8c', tool_call_id='call_xhQevIVmQGPJSJAxfPDlarFR'), AIMessage(content='The result of multiplying 3 with the maximum of [1, 2, 5] is 15.', additional_kwargs={'refusal': None}, response_metadata={'token_usage': {'completion_tokens': 24, 'prompt_tokens': 177, 'total_tokens': 201, 'completion_tokens_details': {'accepted_prediction_tokens': 0, 'audio_tokens': 0, 'reasoning_tokens': 0, 'rejected_prediction_tokens': 0}, 'prompt_tokens_details': {'audio_tokens': 0, 'cached_tokens': 0}}, 'model_name': 'gpt-4o-mini-2024-07-18', 'system_fingerprint': 'fp_0705bf87c0', 'finish_reason': 'stop', 'logprobs': None}, id='run-f371f4b7-dd02-43b9-974f-c16006a27cfc-0', usage_metadata={'input_tokens': 177, 'output_tokens': 24, 'total_tokens': 201, 'input_token_details': {'audio': 0, 'cache_read': 0}, 'output_token_details': {'audio': 0, 'reasoning': 0}})]}\n"
     ]
    }
   ],
   "source": [
    "from langgraph.prebuilt import create_react_agent\n",
    "\n",
    "# Add your tool to the agent\n",
    "agent = create_react_agent(llm, tools=[runnable_tool])\n",
    "\n",
    "# Query the agent\n",
    "response = agent.invoke({\"messages\": [(\"human\", \"Multiply 3 with the max of [1, 2, 5].\")]})\n",
    "print(response)\n"
   ]
  },
  {
   "cell_type": "code",
   "execution_count": null,
   "metadata": {},
   "outputs": [],
   "source": []
  }
 ],
 "metadata": {
  "kernelspec": {
   "display_name": "venv",
   "language": "python",
   "name": "python3"
  },
  "language_info": {
   "codemirror_mode": {
    "name": "ipython",
    "version": 3
   },
   "file_extension": ".py",
   "mimetype": "text/x-python",
   "name": "python",
   "nbconvert_exporter": "python",
   "pygments_lexer": "ipython3",
   "version": "3.10.5"
  }
 },
 "nbformat": 4,
 "nbformat_minor": 2
}
