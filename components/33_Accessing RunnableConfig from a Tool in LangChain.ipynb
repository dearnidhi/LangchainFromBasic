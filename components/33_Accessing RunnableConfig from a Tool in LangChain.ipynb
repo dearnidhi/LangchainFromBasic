{
 "cells": [
  {
   "cell_type": "markdown",
   "metadata": {},
   "source": [
    "# Accessing RunnableConfig from a Tool in LangChain"
   ]
  },
  {
   "cell_type": "markdown",
   "metadata": {},
   "source": [
    "RunnableConfig allows tools to access additional configuration settings and internal events during their execution. This can be useful when you need to configure tools dynamically, trace their behavior, or pass runtime parameters to sub-components like models or retrievers.\n",
    "\n"
   ]
  },
  {
   "cell_type": "markdown",
   "metadata": {},
   "source": [
    "# How It Works\n",
    "LangChain inspects a tool's signature and populates parameters typed as RunnableConfig with the appropriate configuration object at runtime.\n",
    "\n"
   ]
  },
  {
   "cell_type": "markdown",
   "metadata": {},
   "source": [
    "# 1. Define a Custom Tool\n",
    "The custom tool reverse_tool demonstrates how to use RunnableConfig. It concatenates a string with a configurable field (additional_field) and then reverses the result."
   ]
  },
  {
   "cell_type": "code",
   "execution_count": 1,
   "metadata": {},
   "outputs": [],
   "source": [
    "from langchain_core.runnables import RunnableConfig\n",
    "from langchain_core.tools import tool\n",
    "\n",
    "@tool\n",
    "async def reverse_tool(text: str, special_config_param: RunnableConfig) -> str:\n",
    "    \"\"\"A test tool that combines input text with a configurable parameter.\"\"\"\n",
    "    # Access a custom field from the configuration\n",
    "    additional_field = special_config_param[\"configurable\"][\"additional_field\"]\n",
    "    return (text + additional_field)[::-1]\n"
   ]
  },
  {
   "cell_type": "markdown",
   "metadata": {},
   "source": [
    "# 2. Invoke the Tool with Configuration\n",
    "Pass the RunnableConfig during invocation to dynamically control tool behavior."
   ]
  },
  {
   "cell_type": "code",
   "execution_count": 3,
   "metadata": {},
   "outputs": [
    {
     "name": "stdout",
     "output_type": "stream",
     "text": [
      "321cba\n"
     ]
    }
   ],
   "source": [
    "# Invoke the tool with custom configuration\n",
    "async def main():\n",
    "    result = await reverse_tool.ainvoke(\n",
    "        {\"text\": \"abc\"},  # Input for the tool\n",
    "        config={\"configurable\": {\"additional_field\": \"123\"}}  # Config with additional_field\n",
    "    )\n",
    "    print(result)  # Output: '321cba'\n",
    "\n",
    "# Use await directly if in a running event loop\n",
    "await main()\n"
   ]
  },
  {
   "cell_type": "markdown",
   "metadata": {},
   "source": [
    "# Explanation:\n",
    "\n",
    "Input text: \"abc\"\n",
    "\n",
    "Configurable field (additional_field): \"123\"\n",
    "\n",
    "Concatenation: \"abc123\"\n",
    "\n",
    "Reversed result: \"321cba\""
   ]
  },
  {
   "cell_type": "markdown",
   "metadata": {},
   "source": [
    "# Key Concepts\n",
    "# 1. Typing the Config Parameter:\n",
    "\n",
    "Any parameter typed as RunnableConfig in the tool's signature automatically receives the current configuration object.\n",
    "\n",
    "The name of the parameter (e.g., special_config_param) is arbitrary—only the type matters.\n",
    "# 2. Accessing Configurable Fields:\n",
    "\n",
    "Use dictionary-like syntax to retrieve values from RunnableConfig.\n",
    "\n",
    "Example: special_config_param[\"configurable\"][\"additional_field\"].\n",
    "\n",
    "# 3.Async Invocation:\n",
    "\n",
    "Tools supporting async operations should use ainvoke for invocation."
   ]
  },
  {
   "cell_type": "markdown",
   "metadata": {},
   "source": [
    "# Summary\n",
    "By leveraging RunnableConfig, you can create flexible, configurable tools that adapt to runtime requirements, enabling more dynamic and context-aware applications in LangChain"
   ]
  },
  {
   "cell_type": "code",
   "execution_count": null,
   "metadata": {},
   "outputs": [],
   "source": []
  }
 ],
 "metadata": {
  "kernelspec": {
   "display_name": "venv",
   "language": "python",
   "name": "python3"
  },
  "language_info": {
   "codemirror_mode": {
    "name": "ipython",
    "version": 3
   },
   "file_extension": ".py",
   "mimetype": "text/x-python",
   "name": "python",
   "nbconvert_exporter": "python",
   "pygments_lexer": "ipython3",
   "version": "3.10.5"
  }
 },
 "nbformat": 4,
 "nbformat_minor": 2
}
